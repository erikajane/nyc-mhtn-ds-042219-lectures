{
 "cells": [
  {
   "cell_type": "code",
   "execution_count": 49,
   "metadata": {},
   "outputs": [],
   "source": [
    "#Create dictionary\n",
    "pets = {'Sydney':'Bird', 'Bob':'Dog', 'Dobby':'Dog'}"
   ]
  },
  {
   "cell_type": "code",
   "execution_count": 50,
   "metadata": {},
   "outputs": [
    {
     "name": "stdout",
     "output_type": "stream",
     "text": [
      "Key = Sydney, Value = Bird\n",
      "Key = Bob, Value = Dog\n",
      "Key = Dobby, Value = Dog\n"
     ]
    }
   ],
   "source": [
    "#Print dictionary\n",
    "for key, value in pets.items():\n",
    "    print(\"Key = {}, Value = {}\".format(key, value))"
   ]
  },
  {
   "cell_type": "code",
   "execution_count": 51,
   "metadata": {},
   "outputs": [],
   "source": [
    "#Creat another dictionary\n",
    "friends = {'Kristen':'Stamford','Lauren':'Kansas City', 'John':'Walnut Creek'}"
   ]
  },
  {
   "cell_type": "code",
   "execution_count": 52,
   "metadata": {},
   "outputs": [
    {
     "name": "stdout",
     "output_type": "stream",
     "text": [
      "Kristen lives in Stamford\n",
      "Lauren lives in Kansas City\n",
      "John lives in Walnut Creek\n"
     ]
    }
   ],
   "source": [
    "#PRint new dictionary\n",
    "for k, v in friends.items():\n",
    "    print('{} lives in {}'.format(k,v))"
   ]
  },
  {
   "cell_type": "code",
   "execution_count": 53,
   "metadata": {},
   "outputs": [
    {
     "name": "stdout",
     "output_type": "stream",
     "text": [
      "\n",
      "Pet List:\n",
      "Sydney is a Bird\n",
      "Bob is a Dog\n",
      "Dobby is a Dog\n",
      "\n",
      "Pet List:\n",
      "Sydney is a Bird\n",
      "Bob is a Dog\n",
      "Dobby is a Cat\n"
     ]
    }
   ],
   "source": [
    "#Create function to print dictionary and change value of one of the keys\n",
    "pets = {'Sydney':'Bird', 'Bob':'Dog', 'Dobby':'Dog'}\n",
    "def pet_names(pet_list):\n",
    "    print('\\nPet List:')\n",
    "    for key, value in pets.items():\n",
    "        print(\"{} is a {}\".format(key, value))\n",
    "\n",
    "pet_names(pets)\n",
    "\n",
    "pets['Dobby'] = 'Cat'\n",
    "\n",
    "pet_names(pets)"
   ]
  },
  {
   "cell_type": "code",
   "execution_count": 54,
   "metadata": {},
   "outputs": [],
   "source": [
    "#Add Key-Value PAir to dictionary\n",
    "pets['Duke'] = 'Puppy'"
   ]
  },
  {
   "cell_type": "code",
   "execution_count": 55,
   "metadata": {},
   "outputs": [
    {
     "name": "stdout",
     "output_type": "stream",
     "text": [
      "\n",
      "Pet List:\n",
      "Sydney is a Bird\n",
      "Bob is a Dog\n",
      "Dobby is a Cat\n",
      "Duke is a Puppy\n"
     ]
    }
   ],
   "source": [
    "pet_names(pets)"
   ]
  },
  {
   "cell_type": "code",
   "execution_count": 56,
   "metadata": {},
   "outputs": [],
   "source": [
    "#Remove value from dictionary\n",
    "del pets['Sydney']"
   ]
  },
  {
   "cell_type": "code",
   "execution_count": 57,
   "metadata": {},
   "outputs": [
    {
     "name": "stdout",
     "output_type": "stream",
     "text": [
      "\n",
      "Pet List:\n",
      "Bob is a Dog\n",
      "Dobby is a Cat\n",
      "Duke is a Puppy\n"
     ]
    }
   ],
   "source": [
    "pet_names(pets)"
   ]
  },
  {
   "cell_type": "code",
   "execution_count": 58,
   "metadata": {},
   "outputs": [],
   "source": [
    "#Make exercise dictionary\n",
    "\n",
    "exercises = {'push-ups':15,\n",
    "            'sit-ups':40,\n",
    "            'lunges':25,\n",
    "            'squats':15}"
   ]
  },
  {
   "cell_type": "code",
   "execution_count": 59,
   "metadata": {},
   "outputs": [],
   "source": [
    "#Write function to print out dictionary\n",
    "\n",
    "def print_exercises(exercise_dict):\n",
    "    for key, value in exercise_dict.items():\n",
    "        print(\"I did {} {}\".format(value, key))"
   ]
  },
  {
   "cell_type": "code",
   "execution_count": 60,
   "metadata": {},
   "outputs": [
    {
     "name": "stdout",
     "output_type": "stream",
     "text": [
      "I did 15 push-ups\n",
      "I did 40 sit-ups\n",
      "I did 25 lunges\n",
      "I did 15 squats\n"
     ]
    }
   ],
   "source": [
    "# Use function to print dictionary\n",
    "print_exercises(exercises)"
   ]
  },
  {
   "cell_type": "code",
   "execution_count": 61,
   "metadata": {},
   "outputs": [],
   "source": [
    "# Modify one of the values in the dictionary\n",
    "exercises['push-ups']=20"
   ]
  },
  {
   "cell_type": "code",
   "execution_count": 62,
   "metadata": {},
   "outputs": [
    {
     "name": "stdout",
     "output_type": "stream",
     "text": [
      "I did 20 push-ups\n",
      "I did 40 sit-ups\n",
      "I did 25 lunges\n",
      "I did 15 squats\n"
     ]
    }
   ],
   "source": [
    "print_exercises(exercises)"
   ]
  },
  {
   "cell_type": "code",
   "execution_count": 63,
   "metadata": {},
   "outputs": [],
   "source": [
    "# Add new key-value pair to dictionary\n",
    "exercises['pull-ups'] = 12"
   ]
  },
  {
   "cell_type": "code",
   "execution_count": 64,
   "metadata": {},
   "outputs": [
    {
     "name": "stdout",
     "output_type": "stream",
     "text": [
      "I did 20 push-ups\n",
      "I did 40 sit-ups\n",
      "I did 25 lunges\n",
      "I did 15 squats\n",
      "I did 12 pull-ups\n"
     ]
    }
   ],
   "source": [
    "print_exercises(exercises)"
   ]
  },
  {
   "cell_type": "code",
   "execution_count": 65,
   "metadata": {},
   "outputs": [],
   "source": [
    "# Remove a key-value pair from dictionary\n",
    "del exercises['push-ups']"
   ]
  },
  {
   "cell_type": "code",
   "execution_count": 66,
   "metadata": {},
   "outputs": [
    {
     "name": "stdout",
     "output_type": "stream",
     "text": [
      "I did 40 sit-ups\n",
      "I did 25 lunges\n",
      "I did 15 squats\n",
      "I did 12 pull-ups\n"
     ]
    }
   ],
   "source": [
    "print_exercises(exercises)"
   ]
  },
  {
   "cell_type": "code",
   "execution_count": null,
   "metadata": {},
   "outputs": [],
   "source": []
  },
  {
   "cell_type": "code",
   "execution_count": 67,
   "metadata": {},
   "outputs": [],
   "source": [
    "# Create new dictionary fpr dog weights\n",
    "dog_weights = {'Dobby':30, 'Duke':60, 'Winston':75, 'Bob':40, 'Spot':35}"
   ]
  },
  {
   "cell_type": "code",
   "execution_count": 73,
   "metadata": {},
   "outputs": [],
   "source": [
    "# Print out the keys/dog names from dictionary\n",
    "def print_dog_names(dog_list):\n",
    "    for key in dog_list:\n",
    "        print(key)"
   ]
  },
  {
   "cell_type": "code",
   "execution_count": 74,
   "metadata": {},
   "outputs": [
    {
     "name": "stdout",
     "output_type": "stream",
     "text": [
      "Dobby\n",
      "Duke\n",
      "Winston\n",
      "Bob\n",
      "Spot\n"
     ]
    }
   ],
   "source": [
    "print_dog_names(dog_weights)"
   ]
  },
  {
   "cell_type": "code",
   "execution_count": 77,
   "metadata": {},
   "outputs": [],
   "source": [
    "# PRint out values/dog weights from dictionary function\n",
    "def print_weights(weight_list):\n",
    "    for value in weight_list.values():\n",
    "        print(value)"
   ]
  },
  {
   "cell_type": "code",
   "execution_count": 78,
   "metadata": {},
   "outputs": [
    {
     "name": "stdout",
     "output_type": "stream",
     "text": [
      "30\n",
      "60\n",
      "75\n",
      "40\n",
      "35\n"
     ]
    }
   ],
   "source": [
    "print_weights(dog_weights)"
   ]
  },
  {
   "cell_type": "code",
   "execution_count": 83,
   "metadata": {},
   "outputs": [],
   "source": [
    "def print_statement(dog_list):\n",
    "    print(\"\\nHere is our list of dogs and weights!\")\n",
    "    for k, v in sorted(dog_list.items()):\n",
    "        print(\"{} is {} pounds!\".format(k,v))"
   ]
  },
  {
   "cell_type": "code",
   "execution_count": 84,
   "metadata": {},
   "outputs": [
    {
     "name": "stdout",
     "output_type": "stream",
     "text": [
      "\n",
      "Here is our list of dogs and weights!\n",
      "Bob is 40 pounds!\n",
      "Dobby is 30 pounds!\n",
      "Duke is 60 pounds!\n",
      "Spot is 35 pounds!\n",
      "Winston is 75 pounds!\n"
     ]
    }
   ],
   "source": [
    "print_statement(dog_weights)"
   ]
  },
  {
   "cell_type": "code",
   "execution_count": 98,
   "metadata": {},
   "outputs": [],
   "source": [
    "#Create dictionary of list (height in meters, height in feet) for tallest mountains\n",
    "tallest_mountains = {'Mount Everest':[8848, 29029], 'K2':[8611, 28251], 'Kangchenjunga':[8586,28169], 'Lhotse':[8516,27940], 'Makalu':[8485,27838], 'Cho Oyu':[8201,26906]}\n",
    "                                     "
   ]
  },
  {
   "cell_type": "code",
   "execution_count": 99,
   "metadata": {},
   "outputs": [
    {
     "name": "stdout",
     "output_type": "stream",
     "text": [
      "Mount Everest\n",
      "K2\n",
      "Kangchenjunga\n",
      "Lhotse\n",
      "Makalu\n",
      "Cho Oyu\n"
     ]
    }
   ],
   "source": [
    "# Print the keys/mountain names in dictionary\n",
    "for key in tallest_mountains:\n",
    "    print(key)"
   ]
  },
  {
   "cell_type": "code",
   "execution_count": 103,
   "metadata": {},
   "outputs": [
    {
     "name": "stdout",
     "output_type": "stream",
     "text": [
      "8848\n",
      "8611\n",
      "8586\n",
      "8516\n",
      "8485\n",
      "8201\n"
     ]
    }
   ],
   "source": [
    "# Print elevation in meters for each mountain\n",
    "for values in tallest_mountains.values():\n",
    "    print(values[0])"
   ]
  },
  {
   "cell_type": "code",
   "execution_count": 105,
   "metadata": {},
   "outputs": [
    {
     "name": "stdout",
     "output_type": "stream",
     "text": [
      "29029\n",
      "28251\n",
      "28169\n",
      "27940\n",
      "27838\n",
      "26906\n"
     ]
    }
   ],
   "source": [
    "# Print elevation in feet for each mountain\n",
    "for values in tallest_mountains.values():\n",
    "    print(values[1])"
   ]
  },
  {
   "cell_type": "code",
   "execution_count": 107,
   "metadata": {},
   "outputs": [
    {
     "name": "stdout",
     "output_type": "stream",
     "text": [
      "Mount Everest is 8848 meters tall, or 29029 feet.\n",
      "K2 is 8611 meters tall, or 28251 feet.\n",
      "Kangchenjunga is 8586 meters tall, or 28169 feet.\n",
      "Lhotse is 8516 meters tall, or 27940 feet.\n",
      "Makalu is 8485 meters tall, or 27838 feet.\n",
      "Cho Oyu is 8201 meters tall, or 26906 feet.\n"
     ]
    }
   ],
   "source": [
    "for key, values in tallest_mountains.items():\n",
    "    print(\"{} is {} meters tall, or {} feet.\".format(key, values[0], values[1]))"
   ]
  },
  {
   "cell_type": "code",
   "execution_count": 109,
   "metadata": {},
   "outputs": [],
   "source": [
    "# Create dictionary of dictionaries, in inner dictionary include height in meters and mountain range\n",
    "tallest_mountains = {'Mount Everest':{'height':8848, 'range':'Himalayas'}, 'K2':{'height':8611, 'range':'Karakoram'}, 'Kangchenjunga':{'height':8586, 'range':'Himalayas'}, 'Lhotse':{'height':8516,'range':'Himalayas'}, 'Makalu':{'height':8485,'range':'Himalayas'}, 'Cho Oyu':{'height':8201,'range':'Himalayas'}}\n",
    "\n"
   ]
  },
  {
   "cell_type": "code",
   "execution_count": 110,
   "metadata": {},
   "outputs": [
    {
     "name": "stdout",
     "output_type": "stream",
     "text": [
      "Mount Everest\n",
      "K2\n",
      "Kangchenjunga\n",
      "Lhotse\n",
      "Makalu\n",
      "Cho Oyu\n"
     ]
    }
   ],
   "source": [
    "# Print out mountain names/keys\n",
    "for names in tallest_mountains:\n",
    "    print(names)"
   ]
  },
  {
   "cell_type": "code",
   "execution_count": 119,
   "metadata": {},
   "outputs": [
    {
     "name": "stdout",
     "output_type": "stream",
     "text": [
      "8848\n",
      "8611\n",
      "8586\n",
      "8516\n",
      "8485\n",
      "8201\n"
     ]
    }
   ],
   "source": [
    "# Print out elevations\n",
    "for key, values in tallest_mountains.items():\n",
    "    print(values['height'])"
   ]
  },
  {
   "cell_type": "code",
   "execution_count": 120,
   "metadata": {},
   "outputs": [
    {
     "name": "stdout",
     "output_type": "stream",
     "text": [
      "Himalayas\n",
      "Karakoram\n",
      "Himalayas\n",
      "Himalayas\n",
      "Himalayas\n",
      "Himalayas\n"
     ]
    }
   ],
   "source": [
    "# Print out mountain ranges\n",
    "for key, values in tallest_mountains.items():\n",
    "    print(values['range'])"
   ]
  },
  {
   "cell_type": "code",
   "execution_count": 124,
   "metadata": {},
   "outputs": [
    {
     "name": "stdout",
     "output_type": "stream",
     "text": [
      "Mount Everest is an 8848-meter tall mountain in the Himalayas range.\n",
      "K2 is an 8611-meter tall mountain in the Karakoram range.\n",
      "Kangchenjunga is an 8586-meter tall mountain in the Himalayas range.\n",
      "Lhotse is an 8516-meter tall mountain in the Himalayas range.\n",
      "Makalu is an 8485-meter tall mountain in the Himalayas range.\n",
      "Cho Oyu is an 8201-meter tall mountain in the Himalayas range.\n"
     ]
    }
   ],
   "source": [
    "# Print statements\n",
    "\n",
    "for key, values in tallest_mountains.items():\n",
    "    print(\"{} is an {}-meter tall mountain in the {} range.\".format(key, values['height'], values['range']))"
   ]
  },
  {
   "cell_type": "code",
   "execution_count": 1,
   "metadata": {},
   "outputs": [
    {
     "data": {
      "text/plain": [
       "[5, 5, 5]"
      ]
     },
     "execution_count": 1,
     "metadata": {},
     "output_type": "execute_result"
    }
   ],
   "source": [
    "def replicate(times, num):\n",
    "    array = []\n",
    "    if times <= 0:\n",
    "        return []\n",
    "    else:\n",
    "        return [num] + replicate((times - 1), num)\n",
    "replicate(3, 5)"
   ]
  },
  {
   "cell_type": "code",
   "execution_count": null,
   "metadata": {},
   "outputs": [],
   "source": [
    "[5]"
   ]
  },
  {
   "cell_type": "code",
   "execution_count": null,
   "metadata": {},
   "outputs": [],
   "source": [
    "[5]"
   ]
  },
  {
   "cell_type": "code",
   "execution_count": null,
   "metadata": {},
   "outputs": [],
   "source": []
  },
  {
   "cell_type": "code",
   "execution_count": null,
   "metadata": {},
   "outputs": [],
   "source": []
  },
  {
   "cell_type": "code",
   "execution_count": null,
   "metadata": {},
   "outputs": [],
   "source": []
  },
  {
   "cell_type": "code",
   "execution_count": null,
   "metadata": {},
   "outputs": [],
   "source": []
  },
  {
   "cell_type": "code",
   "execution_count": null,
   "metadata": {},
   "outputs": [],
   "source": []
  }
 ],
 "metadata": {
  "kernelspec": {
   "display_name": "Python 3",
   "language": "python",
   "name": "python3"
  },
  "language_info": {
   "codemirror_mode": {
    "name": "ipython",
    "version": 3
   },
   "file_extension": ".py",
   "mimetype": "text/x-python",
   "name": "python",
   "nbconvert_exporter": "python",
   "pygments_lexer": "ipython3",
   "version": "3.7.3"
  }
 },
 "nbformat": 4,
 "nbformat_minor": 2
}
