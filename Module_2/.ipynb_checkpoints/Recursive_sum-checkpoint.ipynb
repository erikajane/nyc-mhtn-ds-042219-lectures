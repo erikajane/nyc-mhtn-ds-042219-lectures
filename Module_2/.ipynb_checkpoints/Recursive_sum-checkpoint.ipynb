{
 "cells": [
  {
   "cell_type": "markdown",
   "metadata": {},
   "source": [
    "\n",
    "                                       ____ ___  ____ ___ _   _  ____                         \n",
    "                                      / ___/ _ \\|  _ \\_ _| \\ | |/ ___|                        \n",
    "                                     | |  | | | | | | | ||  \\| | |  _                         \n",
    "                                     | |__| |_| | |_| | || |\\  | |_| |                        \n",
    "                                      \\____\\___/|____/___|_| \\_|\\____|                        \n",
    "                           ____ _   _    _    _     _     _____ _   _  ____ _____ \n",
    "                          / ___| | | |  / \\  | |   | |   | ____| \\ | |/ ___| ____|\n",
    "                         | |   | |_| | / _ \\ | |   | |   |  _| |  \\| | |  _|  _|  \n",
    "                         | |___|  _  |/ ___ \\| |___| |___| |___| |\\  | |_| | |___ \n",
    "                          \\____|_| |_/_/   \\_\\_____|_____|_____|_| \\_|\\____|_____|\n"
   ]
  },
  {
   "cell_type": "markdown",
   "metadata": {},
   "source": [
    "# You need to design a recursive function that sums up a list of ints.\n"
   ]
  },
  {
   "cell_type": "markdown",
   "metadata": {},
   "source": [
    "### Example:\n",
    "\n",
    "recursive_sum([1,2,3]) -> 6\n",
    "\n",
    "recursive_sum([-7,1,10]) -> 4\n",
    "\n",
    "recursive_sum([0]) -> 0\n",
    "\n",
    "recursive_sum([0,20,40,80]) -> 140"
   ]
  },
  {
   "cell_type": "code",
   "execution_count": null,
   "metadata": {},
   "outputs": [],
   "source": [
    "def recursive_sum(x):\n",
    "    #your code here"
   ]
  }
 ],
 "metadata": {
  "kernelspec": {
   "display_name": "Python 3",
   "language": "python",
   "name": "python3"
  },
  "language_info": {
   "codemirror_mode": {
    "name": "ipython",
    "version": 3
   },
   "file_extension": ".py",
   "mimetype": "text/x-python",
   "name": "python",
   "nbconvert_exporter": "python",
   "pygments_lexer": "ipython3",
   "version": "3.6.6"
  }
 },
 "nbformat": 4,
 "nbformat_minor": 2
}
